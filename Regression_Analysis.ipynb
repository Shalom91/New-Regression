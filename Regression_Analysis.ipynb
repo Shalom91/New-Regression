{
 "cells": [
  {
   "cell_type": "markdown",
   "metadata": {
    "toc": true
   },
   "source": [
    "<h1>Table of Contents<span class=\"tocSkip\"></span></h1>\n",
    "<div class=\"toc\"><ul class=\"toc-item\"><li><span><a href=\"#QUESTION-1\" data-toc-modified-id=\"QUESTION-1-1\"><span class=\"toc-item-num\">1&nbsp;&nbsp;</span>QUESTION 1</a></span><ul class=\"toc-item\"><li><span><a href=\"#Split-The-Dataset\" data-toc-modified-id=\"Split-The-Dataset-1.1\"><span class=\"toc-item-num\">1.1&nbsp;&nbsp;</span>Split The Dataset</a></span></li><li><span><a href=\"#Examine-Training-Data-for-Missing-and-Extreme-Values\" data-toc-modified-id=\"Examine-Training-Data-for-Missing-and-Extreme-Values-1.2\"><span class=\"toc-item-num\">1.2&nbsp;&nbsp;</span>Examine Training Data for Missing and Extreme Values</a></span></li><li><span><a href=\"#Create-Histogram-and-Scatter-Plot\" data-toc-modified-id=\"Create-Histogram-and-Scatter-Plot-1.3\"><span class=\"toc-item-num\">1.3&nbsp;&nbsp;</span>Create Histogram and Scatter Plot</a></span></li><li><span><a href=\"#Are-the-data-appropriate-for-linear-regression\" data-toc-modified-id=\"Are-the-data-appropriate-for-linear-regression-1.4\"><span class=\"toc-item-num\">1.4&nbsp;&nbsp;</span>Are the data appropriate for linear regression</a></span></li></ul></li><li><span><a href=\"#QUESTION-2\" data-toc-modified-id=\"QUESTION-2-2\"><span class=\"toc-item-num\">2&nbsp;&nbsp;</span>QUESTION 2</a></span><ul class=\"toc-item\"><li><span><a href=\"#Does-the-model-significantly-predict-the-dependent-variable?\" data-toc-modified-id=\"Does-the-model-significantly-predict-the-dependent-variable?-2.1\"><span class=\"toc-item-num\">2.1&nbsp;&nbsp;</span>Does the model significantly predict the dependent variable?</a></span></li><li><span><a href=\"#What-percentage-of-the-variance-in-employees’-salaries-is-accounted-for-by-the-number-of-years-they-have-worked?\" data-toc-modified-id=\"What-percentage-of-the-variance-in-employees’-salaries-is-accounted-for-by-the-number-of-years-they-have-worked?-2.2\"><span class=\"toc-item-num\">2.2&nbsp;&nbsp;</span>What percentage of the variance in employees’ salaries is accounted for by the number of years they have worked?</a></span></li></ul></li><li><span><a href=\"#QUESTION-3\" data-toc-modified-id=\"QUESTION-3-3\"><span class=\"toc-item-num\">3&nbsp;&nbsp;</span>QUESTION 3</a></span></li><li><span><a href=\"#QUESTION-4\" data-toc-modified-id=\"QUESTION-4-4\"><span class=\"toc-item-num\">4&nbsp;&nbsp;</span>QUESTION 4</a></span></li><li><span><a href=\"#QUESTION-5\" data-toc-modified-id=\"QUESTION-5-5\"><span class=\"toc-item-num\">5&nbsp;&nbsp;</span>QUESTION 5</a></span></li><li><span><a href=\"#QUESTION-6\" data-toc-modified-id=\"QUESTION-6-6\"><span class=\"toc-item-num\">6&nbsp;&nbsp;</span>QUESTION 6</a></span></li><li><span><a href=\"#QUESTION-7\" data-toc-modified-id=\"QUESTION-7-7\"><span class=\"toc-item-num\">7&nbsp;&nbsp;</span>QUESTION 7</a></span></li><li><span><a href=\"#FIT-MODEL-ON-TEST-SET\" data-toc-modified-id=\"FIT-MODEL-ON-TEST-SET-8\"><span class=\"toc-item-num\">8&nbsp;&nbsp;</span>FIT MODEL ON TEST SET</a></span></li></ul></div>"
   ]
  },
  {
   "cell_type": "markdown",
   "metadata": {},
   "source": [
    "# QUESTION 1"
   ]
  },
  {
   "cell_type": "markdown",
   "metadata": {},
   "source": [
    "Split your data into a training and test set. Leave the test set for now. Examine the training data for missing and extreme values. Create histograms to show the distribution of the variables and a scatterplot showing the relationship between Years Worked and Salary. Are the data appropriate for linear regression? Is there anything that needs to be transformed or edited first?"
   ]
  },
  {
   "cell_type": "markdown",
   "metadata": {},
   "source": [
    "## Split The Dataset"
   ]
  },
  {
   "cell_type": "code",
   "execution_count": 101,
   "metadata": {},
   "outputs": [
    {
     "name": "stdout",
     "output_type": "stream",
     "text": [
      "(411, 11) (103, 11)\n"
     ]
    }
   ],
   "source": [
    "# import modules\n",
    "import pandas as pd\n",
    "import numpy as np\n",
    "import matplotlib.pyplot as plt\n",
    "import seaborn as sns\n",
    "from sklearn.model_selection import train_test_split\n",
    "\n",
    "%matplotlib inline\n",
    "\n",
    "# load the salary dataset\n",
    "df = pd.read_csv('salary.csv')\n",
    "\n",
    "# split the data\n",
    "train, test = train_test_split(df, test_size=.2)\n",
    "print(train.shape, test.shape)"
   ]
  },
  {
   "cell_type": "markdown",
   "metadata": {},
   "source": [
    "## Examine Training Data for Missing and Extreme Values"
   ]
  },
  {
   "cell_type": "code",
   "execution_count": 102,
   "metadata": {},
   "outputs": [
    {
     "data": {
      "text/plain": [
       "salary         1\n",
       "exprior        0\n",
       "yearsworked    0\n",
       "yearsrank      0\n",
       "market         0\n",
       "degree         0\n",
       "otherqual      0\n",
       "position       0\n",
       "male           0\n",
       "Field          0\n",
       "yearsabs       0\n",
       "dtype: int64"
      ]
     },
     "execution_count": 102,
     "metadata": {},
     "output_type": "execute_result"
    }
   ],
   "source": [
    "# search for missing values\n",
    "x = train.isnull().sum()\n",
    "x"
   ]
  },
  {
   "cell_type": "markdown",
   "metadata": {},
   "source": [
    "There is one missing value for the variable salary. Plan of action is to replace it with the mean."
   ]
  },
  {
   "cell_type": "code",
   "execution_count": 103,
   "metadata": {},
   "outputs": [
    {
     "name": "stderr",
     "output_type": "stream",
     "text": [
      "/home/recruit/.local/lib/python3.6/site-packages/ipykernel_launcher.py:2: SettingWithCopyWarning: \n",
      "A value is trying to be set on a copy of a slice from a DataFrame.\n",
      "Try using .loc[row_indexer,col_indexer] = value instead\n",
      "\n",
      "See the caveats in the documentation: http://pandas.pydata.org/pandas-docs/stable/user_guide/indexing.html#returning-a-view-versus-a-copy\n",
      "  \n"
     ]
    },
    {
     "data": {
      "text/plain": [
       "salary         0\n",
       "exprior        0\n",
       "yearsworked    0\n",
       "yearsrank      0\n",
       "market         0\n",
       "degree         0\n",
       "otherqual      0\n",
       "position       0\n",
       "male           0\n",
       "Field          0\n",
       "yearsabs       0\n",
       "dtype: int64"
      ]
     },
     "execution_count": 103,
     "metadata": {},
     "output_type": "execute_result"
    }
   ],
   "source": [
    "# replace the missing value with the mean\n",
    "train['salary'] = train.fillna(train['salary'].mean())\n",
    "\n",
    "# checking for missing values\n",
    "x1 = train.isnull().sum()\n",
    "x1"
   ]
  },
  {
   "cell_type": "code",
   "execution_count": 104,
   "metadata": {},
   "outputs": [
    {
     "data": {
      "text/plain": [
       "(297, 11)"
      ]
     },
     "execution_count": 104,
     "metadata": {},
     "output_type": "execute_result"
    }
   ],
   "source": [
    "# detecting extreme values using IQR\n",
    "Q1 = train.quantile(0.25)\n",
    "Q3 = train.quantile(0.75)\n",
    "IQR = Q3 - Q1\n",
    "\n",
    "# removing outliers from the dataset\n",
    "train_out = train[~((train < (Q1 - 1.5 * IQR)) | (train > (Q3 + 1.5 * IQR))).any(axis=1)]\n",
    "\n",
    "train_out.shape"
   ]
  },
  {
   "cell_type": "markdown",
   "metadata": {},
   "source": [
    "## Create Histogram and Scatter Plot"
   ]
  },
  {
   "cell_type": "code",
   "execution_count": 105,
   "metadata": {},
   "outputs": [
    {
     "data": {
      "image/png": "[encoded data removed]",
      "text/plain": [
       "<Figure size 1080x720 with 2 Axes>"
      ]
     },
     "metadata": {},
     "output_type": "display_data"
    },
    {
     "data": {
      "image/png": "[encoded data removed]",
      "text/plain": [
       "<Figure size 1080x720 with 1 Axes>"
      ]
     },
     "metadata": {},
     "output_type": "display_data"
    }
   ],
   "source": [
    "# create new data frame \n",
    "train_new = pd.DataFrame(train_out, columns=['salary', 'yearsworked'])\n",
    "salary = train_new.salary\n",
    "yearsworked = train_new.yearsworked\n",
    "\n",
    "#plot histograms and scatter plot\n",
    "sns.set()\n",
    "\n",
    "plt.subplots(figsize=(15,10))\n",
    "plt.subplot(1,2,1)\n",
    "plt.title(\"Years Worked Graph\")\n",
    "plt.hist(yearsworked, color='r', bins=30)\n",
    "plt.xlabel(\"Years worked\")\n",
    "plt.ylabel(\"count\")\n",
    "\n",
    "plt.subplot(1,2,2)\n",
    "plt.title(\"Salary Graph\")\n",
    "plt.hist(salary, bins=30, color='b')\n",
    "plt.xlabel(\"Salary\")\n",
    "plt.ylabel(\"count\")\n",
    "\n",
    "# making a scatter plot\n",
    "_ = sns.set()\n",
    "\n",
    "_ = plt.figure(figsize=(15,10))\n",
    "_ = plt.plot(yearsworked, salary, marker='.', linestyle='none', color='green')\n",
    "_ = plt.xlabel('Yearsworked')\n",
    "_ = plt.ylabel('Salary')\n",
    "_ = plt.title('Years Worked vs Salary')\n",
    "_ = plt.show()"
   ]
  },
  {
   "cell_type": "markdown",
   "metadata": {},
   "source": [
    "## Are the data appropriate for linear regression"
   ]
  },
  {
   "cell_type": "markdown",
   "metadata": {},
   "source": [
    "ASSUMPTION 1: The Dependent and Independent variable must have a linear relationship\n",
    "\n",
    "Analyzing the Salary vs Years Worked Scatter Plot, it is clear that there is a linear relationship between salary and years worked, therefore first assumption of a Linear Regression has been satisfied."
   ]
  },
  {
   "cell_type": "code",
   "execution_count": 106,
   "metadata": {},
   "outputs": [
    {
     "name": "stdout",
     "output_type": "stream",
     "text": [
      "                            OLS Regression Results                            \n",
      "==============================================================================\n",
      "Dep. Variable:                 salary   R-squared:                       0.543\n",
      "Model:                            OLS   Adj. R-squared:                  0.541\n",
      "Method:                 Least Squares   F-statistic:                     350.1\n",
      "Date:                Fri, 14 Feb 2020   Prob (F-statistic):           4.70e-52\n",
      "Time:                        08:52:00   Log-Likelihood:                -3111.0\n",
      "No. Observations:                 297   AIC:                             6226.\n",
      "Df Residuals:                     295   BIC:                             6233.\n",
      "Df Model:                           1                                         \n",
      "Covariance Type:            nonrobust                                         \n",
      "===============================================================================\n",
      "                  coef    std err          t      P>|t|      [0.025      0.975]\n",
      "-------------------------------------------------------------------------------\n",
      "Intercept    3.788e+04    837.536     45.232      0.000    3.62e+04    3.95e+04\n",
      "yearsworked   944.3395     50.466     18.712      0.000     845.020    1043.659\n",
      "==============================================================================\n",
      "Omnibus:                       29.571   Durbin-Watson:                   2.051\n",
      "Prob(Omnibus):                  0.000   Jarque-Bera (JB):               35.313\n",
      "Skew:                           0.809   Prob(JB):                     2.15e-08\n",
      "Kurtosis:                       3.485   Cond. No.                         27.9\n",
      "==============================================================================\n",
      "\n",
      "Warnings:\n",
      "[1] Standard Errors assume that the covariance matrix of the errors is correctly specified.\n"
     ]
    }
   ],
   "source": [
    "# ASSUMPTION 2: No Autocorrelation in residuals\n",
    "\n",
    "# import modules\n",
    "import statsmodels.formula.api as smf\n",
    "import statsmodels.stats.api as sms\n",
    "\n",
    "# Fit regression model (using the natural log of one of the regressors)\n",
    "results = smf.ols('salary ~ yearsworked', data=train_new).fit()\n",
    "\n",
    "# Inpect Results\n",
    "print(results.summary())"
   ]
  },
  {
   "cell_type": "markdown",
   "metadata": {},
   "source": [
    "Auto correlation is a characteristic of data which shows the degree of similarity between the values of the same variables over successive time intervals.\n",
    "\n",
    "When autocorrelation is detected in the residuals from a model, it suggests that the model is misspecified (i.e., in some sense wrong). A cause is that some key variable or variables are missing from the model.\n",
    "\n",
    "We test for correlation using the Durbin-Watson test.The DW statistic always has a value between zero and 4.0. A value of 2.0 means there is no autocorrelation detected in the sample. Values from zero to 2.0 indicate positive autocorrelation and values from 2.0 to 4.0 indicate negative autocorrelation.\n",
    "\n",
    "According to the above results (Durbin-Watson:2.064), we can conclude that the model has no autocorrelation."
   ]
  },
  {
   "cell_type": "code",
   "execution_count": 107,
   "metadata": {},
   "outputs": [
    {
     "name": "stdout",
     "output_type": "stream",
     "text": [
      "{'LM statistic': 0.09254441007910963, 'LM-Test p-value': 0.7609670478497872, 'F-statistic': 0.09194986673236585, 'F-test p-value': 0.7619265191596719}\n"
     ]
    }
   ],
   "source": [
    "# ASSUMPTION 3: no heteroskedasticity\n",
    "label = ['LM statistic', 'LM-Test p-value', 'F-statistic', 'F-test p-value']\n",
    "\n",
    "# test for heteroskedasticity using the Breusch-Pagan Test\n",
    "bp_test = sms.het_breuschpagan(results.resid, results.model.exog)\n",
    "print(dict(zip(label, bp_test)))"
   ]
  },
  {
   "cell_type": "markdown",
   "metadata": {},
   "source": [
    "In simple terms, heteroskedasticity is any set of data that isn’t homoscedastic. More technically, it refers to data with unequal variability (scatter) across a set of second, predictor variables. \n",
    "\n",
    "If you are running any kind of regression analysis, having data that shows heteroskedasticity can ruin your results (at the very least, it will give you biased coefficients)\n",
    "\n",
    "From the Breusch-Pagan Test Results, heteroskedasticity is indicated if p <0.05, so according to these tests, this model is not heteroskedastic."
   ]
  },
  {
   "cell_type": "code",
   "execution_count": 108,
   "metadata": {},
   "outputs": [
    {
     "name": "stdout",
     "output_type": "stream",
     "text": [
      "{'Jarque-Bera': 35.31337872256415, 'Chi^2 two-tail prob.': 2.146827954415651e-08, 'Skew': 0.8090992272482825, 'Kurtosis': 3.4848093679831833}\n"
     ]
    }
   ],
   "source": [
    "# ASSUMPTION 4: residuals are normally distributed\n",
    "label = ['Jarque-Bera', 'Chi^2 two-tail prob.', 'Skew', 'Kurtosis']\n",
    "\n",
    "# test for normality using the Jarque-Bera Test\n",
    "jb_test = sms.jarque_bera(results.resid)\n",
    "print(dict(zip(label, jb_test)))\n"
   ]
  },
  {
   "cell_type": "markdown",
   "metadata": {},
   "source": [
    "Ordinary Least Squares (OLS) Linear Regression does not require that the error term follows a normal distribution to produce unbiased estimates with the minimum variance. However, satisfying this assumption allows you to perform statistical hypothesis testing and generate reliable confidence intervals and prediction intervals.\n",
    "\n",
    "The Jarque-Bera test statistic tests the null that the data is normally distributed against an alternative that the data follow some other distribution. The test statistic is based on two moments of the data, the skewness, and the kurtosis.\n",
    "\n",
    "A tiny p-value and a large chi-square value from this test means that you can reject the null hypothesis that the data is normally distributed. "
   ]
  },
  {
   "cell_type": "markdown",
   "metadata": {},
   "source": [
    "# QUESTION 2"
   ]
  },
  {
   "cell_type": "markdown",
   "metadata": {},
   "source": [
    "**Using the statsmodels package and the training data, run a simple linear regression for Salary with one predictor variable: Years Worked.**\n",
    "\n",
    "    Does the model significantly predict the dependent variable? Report the amount of variance explained (R^2) and significance value (p) to support your answer.\n",
    "    What percentage of the variance in employees’ salaries is accounted for by the number of years they have worked?\n"
   ]
  },
  {
   "cell_type": "code",
   "execution_count": 109,
   "metadata": {},
   "outputs": [
    {
     "name": "stdout",
     "output_type": "stream",
     "text": [
      "                            OLS Regression Results                            \n",
      "==============================================================================\n",
      "Dep. Variable:                 salary   R-squared:                       0.543\n",
      "Model:                            OLS   Adj. R-squared:                  0.541\n",
      "Method:                 Least Squares   F-statistic:                     350.1\n",
      "Date:                Fri, 14 Feb 2020   Prob (F-statistic):           4.70e-52\n",
      "Time:                        08:52:00   Log-Likelihood:                -3111.0\n",
      "No. Observations:                 297   AIC:                             6226.\n",
      "Df Residuals:                     295   BIC:                             6233.\n",
      "Df Model:                           1                                         \n",
      "Covariance Type:            nonrobust                                         \n",
      "===============================================================================\n",
      "                  coef    std err          t      P>|t|      [0.025      0.975]\n",
      "-------------------------------------------------------------------------------\n",
      "Intercept    3.788e+04    837.536     45.232      0.000    3.62e+04    3.95e+04\n",
      "yearsworked   944.3395     50.466     18.712      0.000     845.020    1043.659\n",
      "==============================================================================\n",
      "Omnibus:                       29.571   Durbin-Watson:                   2.051\n",
      "Prob(Omnibus):                  0.000   Jarque-Bera (JB):               35.313\n",
      "Skew:                           0.809   Prob(JB):                     2.15e-08\n",
      "Kurtosis:                       3.485   Cond. No.                         27.9\n",
      "==============================================================================\n",
      "\n",
      "Warnings:\n",
      "[1] Standard Errors assume that the covariance matrix of the errors is correctly specified.\n"
     ]
    }
   ],
   "source": [
    "# Fit regression model (using the natural log of one of the regressors)\n",
    "results = smf.ols('salary ~ yearsworked', data=train_new).fit()\n",
    "\n",
    "# Inpect Results\n",
    "print(results.summary())"
   ]
  },
  {
   "cell_type": "markdown",
   "metadata": {},
   "source": [
    "## Does the model significantly predict the dependent variable?"
   ]
  },
  {
   "cell_type": "markdown",
   "metadata": {},
   "source": [
    "R-square shows the total variation for the dependent variable that could be explained by the independent variables. A value greater than 0.5 shows that the model is effective enough to determine the relationship. In this case, the value is 0.543, which is good.\n",
    "\n",
    "Generally, 95% confidence interval or 5% level of the significance level is chosen for the study. Thus the p-value should be less than 0.05. In the above table, the p-values are 0.000. Therefore, the results are statistically significant."
   ]
  },
  {
   "cell_type": "markdown",
   "metadata": {},
   "source": [
    "## What percentage of the variance in employees’ salaries is accounted for by the number of years they have worked?"
   ]
  },
  {
   "cell_type": "markdown",
   "metadata": {},
   "source": [
    "The R-Squared value of 0.54 indicates that the model (explanatory variable: number of years worked) explains approximately 54 percent of the variation in the dependent variable (salary)."
   ]
  },
  {
   "cell_type": "markdown",
   "metadata": {},
   "source": [
    "# QUESTION 3"
   ]
  },
  {
   "cell_type": "markdown",
   "metadata": {},
   "source": [
    "**What does the unstandardized coefficient (B or ‘coef’ in statsmodels) tell you about the relationship between Years Worked and Salary?**"
   ]
  },
  {
   "cell_type": "code",
   "execution_count": 110,
   "metadata": {},
   "outputs": [
    {
     "data": {
      "text/plain": [
       "Intercept      37883.423428\n",
       "yearsworked      944.339509\n",
       "dtype: float64"
      ]
     },
     "execution_count": 110,
     "metadata": {},
     "output_type": "execute_result"
    }
   ],
   "source": [
    "# print the coefficients\n",
    "results.params"
   ]
  },
  {
   "cell_type": "markdown",
   "metadata": {},
   "source": [
    "The intercept is the value of the value of the salary earned when the number of years worked is 0. Thus one unit increase in the number of years worked will result with a 944.34 unit increase in salary earned. Note that if an increase in years worked was associated with a decrease in salary, $\\beta_1$ would be negative. Thus, in this case our $\\beta_1$ suggest a positive relationship between years worked and salary."
   ]
  },
  {
   "cell_type": "markdown",
   "metadata": {},
   "source": [
    "# QUESTION 4"
   ]
  },
  {
   "cell_type": "markdown",
   "metadata": {},
   "source": [
    "**What do the 95% confidence intervals [0.025, 0.975] mean?**"
   ]
  },
  {
   "cell_type": "code",
   "execution_count": 111,
   "metadata": {},
   "outputs": [
    {
     "data": {
      "text/html": [
       "<div>\n",
       "<style scoped>\n",
       "    .dataframe tbody tr th:only-of-type {\n",
       "        vertical-align: middle;\n",
       "    }\n",
       "\n",
       "    .dataframe tbody tr th {\n",
       "        vertical-align: top;\n",
       "    }\n",
       "\n",
       "    .dataframe thead th {\n",
       "        text-align: right;\n",
       "    }\n",
       "</style>\n",
       "<table border=\"1\" class=\"dataframe\">\n",
       "  <thead>\n",
       "    <tr style=\"text-align: right;\">\n",
       "      <th></th>\n",
       "      <th>0</th>\n",
       "      <th>1</th>\n",
       "    </tr>\n",
       "  </thead>\n",
       "  <tbody>\n",
       "    <tr>\n",
       "      <th>Intercept</th>\n",
       "      <td>36235.120694</td>\n",
       "      <td>39531.726161</td>\n",
       "    </tr>\n",
       "    <tr>\n",
       "      <th>yearsworked</th>\n",
       "      <td>845.019695</td>\n",
       "      <td>1043.659323</td>\n",
       "    </tr>\n",
       "  </tbody>\n",
       "</table>\n",
       "</div>"
      ],
      "text/plain": [
       "                        0             1\n",
       "Intercept    36235.120694  39531.726161\n",
       "yearsworked    845.019695   1043.659323"
      ]
     },
     "execution_count": 111,
     "metadata": {},
     "output_type": "execute_result"
    }
   ],
   "source": [
    "# print the confidence intervals for the model coefficients\n",
    "results.conf_int()"
   ]
  },
  {
   "cell_type": "markdown",
   "metadata": {},
   "source": [
    "Confidence Interval represents the range in which our coefficients are likely to fall (with a likelihood of 95%)"
   ]
  },
  {
   "cell_type": "markdown",
   "metadata": {},
   "source": [
    "# QUESTION 5"
   ]
  },
  {
   "cell_type": "markdown",
   "metadata": {},
   "source": [
    "**Calculate the expected salary for someone with 12 years’ work experience.**"
   ]
  },
  {
   "cell_type": "code",
   "execution_count": 112,
   "metadata": {},
   "outputs": [
    {
     "data": {
      "text/plain": [
       "Year_12 Salary:    49215.49754\n",
       "dtype: float64"
      ]
     },
     "execution_count": 112,
     "metadata": {},
     "output_type": "execute_result"
    }
   ],
   "source": [
    "# create data frame\n",
    "x_12 = pd.DataFrame({'yearsworked':[12]}, index=['Year_12 Salary:'])\n",
    "\n",
    "# predict salary after 12 years' work experience\n",
    "pred_12 = results.predict(x_12)\n",
    "pred_12"
   ]
  },
  {
   "cell_type": "markdown",
   "metadata": {},
   "source": [
    "# QUESTION 6"
   ]
  },
  {
   "cell_type": "markdown",
   "metadata": {},
   "source": [
    "**Calculate the expected salary for someone with 80 years’ work experience. Are there any problems with this prediction? If so, what are they?**"
   ]
  },
  {
   "cell_type": "code",
   "execution_count": 113,
   "metadata": {},
   "outputs": [
    {
     "data": {
      "text/plain": [
       "Year_80 Salary:    113430.584177\n",
       "dtype: float64"
      ]
     },
     "execution_count": 113,
     "metadata": {},
     "output_type": "execute_result"
    }
   ],
   "source": [
    "# create data frame\n",
    "x_80 = pd.DataFrame({'yearsworked':[80]}, index=['Year_80 Salary:'])\n",
    "\n",
    "# predict salary with 80 years' work experience\n",
    "pred_80 = results.predict(x_80)\n",
    "pred_80"
   ]
  },
  {
   "cell_type": "markdown",
   "metadata": {},
   "source": [
    "It is highly unlikely to find a candidate with 80 years work experience, hence this predicted value highly unfeasible as well as unreliable."
   ]
  },
  {
   "cell_type": "markdown",
   "metadata": {},
   "source": [
    "# QUESTION 7"
   ]
  },
  {
   "cell_type": "markdown",
   "metadata": {},
   "source": [
    "**We have only looked at the number of years an employee has worked. What other employee characteristics might influence their salary?**"
   ]
  },
  {
   "cell_type": "code",
   "execution_count": 114,
   "metadata": {},
   "outputs": [
    {
     "data": {
      "image/png": "[encoded data removed]",
      "text/plain": [
       "<Figure size 432x288 with 2 Axes>"
      ]
     },
     "metadata": {},
     "output_type": "display_data"
    }
   ],
   "source": [
    "# plot heatmap to find correlation of multiple variables\n",
    "corr = train_out.corr()\n",
    "fig = plt.figure()\n",
    "ax = fig.add_subplot(111)\n",
    "cax = ax.matshow(corr, cmap='coolwarm', vmin=-1, vmax=1)\n",
    "fig.colorbar(cax)\n",
    "ticks = np.arange(0,len(train_out.columns), 1)\n",
    "ax.set_xticks(ticks)\n",
    "plt.xticks(rotation=90)\n",
    "ax.set_yticks(ticks)\n",
    "ax.set_xticklabels(train_out.columns)\n",
    "ax.set_yticklabels(train_out.columns)\n",
    "plt.show()"
   ]
  },
  {
   "cell_type": "markdown",
   "metadata": {},
   "source": [
    "The above diagram shows the correlation between variables of the dataset. When there is no correlation between 2 variables (when correlation is 0 or near 0) the color is gray.\n",
    "\n",
    "The darkest red means there is a perfect positive correlation, while the darkest blue means there is a perfect negative correlation.\n",
    "\n",
    "The following variables (experior, degree, and otherqual) have no influence on salary earned while (yearsworked, yearsrank, market, position and male) are positively correlated with salary and (Field and yearsabs) are negatively correlated with salary."
   ]
  },
  {
   "cell_type": "markdown",
   "metadata": {},
   "source": [
    "# FIT MODEL ON TEST SET"
   ]
  },
  {
   "cell_type": "markdown",
   "metadata": {},
   "source": [
    "**Now fit your model to your test set. DO NOT BUILD A NEW MODEL ON THE TEST SET! Simply use your existing, model, to predict salaries in the test set.**"
   ]
  },
  {
   "cell_type": "code",
   "execution_count": 115,
   "metadata": {},
   "outputs": [
    {
     "name": "stdout",
     "output_type": "stream",
     "text": [
      "319    63380.590181\n",
      "21     37883.423428\n",
      "277    58658.892634\n",
      "212    56770.213615\n",
      "406    40716.441956\n",
      "           ...     \n",
      "65     43549.460484\n",
      "218    58658.892634\n",
      "55     43549.460484\n",
      "199    60547.571653\n",
      "499    54881.534596\n",
      "Length: 103, dtype: float64\n"
     ]
    }
   ],
   "source": [
    "# fit model on test set\n",
    "test_result = results.predict(test.yearsworked)\n",
    "print(test_result)\n",
    "\n",
    "# train set predictions\n",
    "train_result = results.predict(train_new.yearsworked)"
   ]
  },
  {
   "cell_type": "markdown",
   "metadata": {},
   "source": [
    "**How does your model compare when running it on the test set - what is the difference in the Root Mean Square Error (RMSE) between the training and test sets? Is there any evidence of overfitting?**"
   ]
  },
  {
   "cell_type": "code",
   "execution_count": 117,
   "metadata": {},
   "outputs": [
    {
     "name": "stdout",
     "output_type": "stream",
     "text": [
      "RMSE_Train:  8569.218441062805 RMSE_Test:  9497.694268006691\n"
     ]
    }
   ],
   "source": [
    "# calculate Root Mean Square Error (RMSE)\n",
    "from sklearn.metrics import mean_squared_error as mse\n",
    "from math import sqrt\n",
    "\n",
    "# How to calculat RMSE: rmse = sqrt(mean_squared_error(y_actual, y_predicted))\n",
    "\n",
    "# calculate RMSE for Test Set\n",
    "rmse_test = sqrt(mse(test.salary, test_result))\n",
    "\n",
    "# calculate RMSE for Train Set\n",
    "rmse_train = sqrt(mse(train_new.salary, train_result))\n",
    "\n",
    "print('RMSE_Train: ', rmse_train, 'RMSE_Test: ', rmse_test)"
   ]
  },
  {
   "cell_type": "markdown",
   "metadata": {},
   "source": [
    "The RMSE is the square root of the variance of the residuals. It indicates the absolute fit of the model to the data–how close the observed data points are to the model’s predicted values.\n",
    "\n",
    "Lower values of RMSE indicate better fit. RMSE is a good measure of how accurately the model predicts the response, and it is the most important criterion for fit if the main purpose of the model is prediction.\n",
    "\n",
    "Our results indicate that the model we ran on the train set has a better fit, since it has a lower RMSE."
   ]
  }
 ],
 "metadata": {
  "kernelspec": {
   "display_name": "Python 3",
   "language": "python",
   "name": "python3"
  },
  "language_info": {
   "codemirror_mode": {
    "name": "ipython",
    "version": 3
   },
   "file_extension": ".py",
   "mimetype": "text/x-python",
   "name": "python",
   "nbconvert_exporter": "python",
   "pygments_lexer": "ipython3",
   "version": "3.6.9"
  },
  "toc": {
   "base_numbering": 1,
   "nav_menu": {},
   "number_sections": true,
   "sideBar": true,
   "skip_h1_title": false,
   "title_cell": "Table of Contents",
   "title_sidebar": "Contents",
   "toc_cell": true,
   "toc_position": {},
   "toc_section_display": true,
   "toc_window_display": false
  },
  "varInspector": {
   "cols": {
    "lenName": 16,
    "lenType": 16,
    "lenVar": 40
   },
   "kernels_config": {
    "python": {
     "delete_cmd_postfix": "",
     "delete_cmd_prefix": "del ",
     "library": "var_list.py",
     "varRefreshCmd": "print(var_dic_list())"
    },
    "r": {
     "delete_cmd_postfix": ") ",
     "delete_cmd_prefix": "rm(",
     "library": "var_list.r",
     "varRefreshCmd": "cat(var_dic_list()) "
    }
   },
   "types_to_exclude": [
    "module",
    "function",
    "builtin_function_or_method",
    "instance",
    "_Feature"
   ],
   "window_display": false
  }
 },
 "nbformat": 4,
 "nbformat_minor": 4
}
