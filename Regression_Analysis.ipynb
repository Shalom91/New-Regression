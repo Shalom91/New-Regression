{
 "cells": [
  {
   "cell_type": "markdown",
   "metadata": {
    "toc": true
   },
   "source": [
    "<h1>Table of Contents<span class=\"tocSkip\"></span></h1>\n",
    "<div class=\"toc\"><ul class=\"toc-item\"><li><span><a href=\"#QUESTION-1\" data-toc-modified-id=\"QUESTION-1-1\"><span class=\"toc-item-num\">1&nbsp;&nbsp;</span>QUESTION 1</a></span><ul class=\"toc-item\"><li><span><a href=\"#Load-Data-and-Import-Modules\" data-toc-modified-id=\"Load-Data-and-Import-Modules-1.1\"><span class=\"toc-item-num\">1.1&nbsp;&nbsp;</span>Load Data and Import Modules</a></span></li><li><span><a href=\"#Examine-Training-Data-for-Missing-and-Extreme-Values\" data-toc-modified-id=\"Examine-Training-Data-for-Missing-and-Extreme-Values-1.2\"><span class=\"toc-item-num\">1.2&nbsp;&nbsp;</span>Examine Training Data for Missing and Extreme Values</a></span></li><li><span><a href=\"#Split-Data\" data-toc-modified-id=\"Split-Data-1.3\"><span class=\"toc-item-num\">1.3&nbsp;&nbsp;</span>Split Data</a></span></li><li><span><a href=\"#Create-Histogram-and-Scatter-Plot\" data-toc-modified-id=\"Create-Histogram-and-Scatter-Plot-1.4\"><span class=\"toc-item-num\">1.4&nbsp;&nbsp;</span>Create Histogram and Scatter Plot</a></span></li><li><span><a href=\"#Are-the-data-appropriate-for-linear-regression\" data-toc-modified-id=\"Are-the-data-appropriate-for-linear-regression-1.5\"><span class=\"toc-item-num\">1.5&nbsp;&nbsp;</span>Are the data appropriate for linear regression</a></span></li></ul></li><li><span><a href=\"#QUESTION-2\" data-toc-modified-id=\"QUESTION-2-2\"><span class=\"toc-item-num\">2&nbsp;&nbsp;</span>QUESTION 2</a></span><ul class=\"toc-item\"><li><span><a href=\"#Does-the-model-significantly-predict-the-dependent-variable?\" data-toc-modified-id=\"Does-the-model-significantly-predict-the-dependent-variable?-2.1\"><span class=\"toc-item-num\">2.1&nbsp;&nbsp;</span>Does the model significantly predict the dependent variable?</a></span></li><li><span><a href=\"#What-percentage-of-the-variance-in-employees’-salaries-is-accounted-for-by-the-number-of-years-they-have-worked?\" data-toc-modified-id=\"What-percentage-of-the-variance-in-employees’-salaries-is-accounted-for-by-the-number-of-years-they-have-worked?-2.2\"><span class=\"toc-item-num\">2.2&nbsp;&nbsp;</span>What percentage of the variance in employees’ salaries is accounted for by the number of years they have worked?</a></span></li></ul></li><li><span><a href=\"#QUESTION-3\" data-toc-modified-id=\"QUESTION-3-3\"><span class=\"toc-item-num\">3&nbsp;&nbsp;</span>QUESTION 3</a></span></li><li><span><a href=\"#QUESTION-4\" data-toc-modified-id=\"QUESTION-4-4\"><span class=\"toc-item-num\">4&nbsp;&nbsp;</span>QUESTION 4</a></span></li><li><span><a href=\"#QUESTION-5\" data-toc-modified-id=\"QUESTION-5-5\"><span class=\"toc-item-num\">5&nbsp;&nbsp;</span>QUESTION 5</a></span></li><li><span><a href=\"#QUESTION-6\" data-toc-modified-id=\"QUESTION-6-6\"><span class=\"toc-item-num\">6&nbsp;&nbsp;</span>QUESTION 6</a></span></li><li><span><a href=\"#QUESTION-7\" data-toc-modified-id=\"QUESTION-7-7\"><span class=\"toc-item-num\">7&nbsp;&nbsp;</span>QUESTION 7</a></span></li><li><span><a href=\"#FIT-MODEL-ON-TEST-SET\" data-toc-modified-id=\"FIT-MODEL-ON-TEST-SET-8\"><span class=\"toc-item-num\">8&nbsp;&nbsp;</span>FIT MODEL ON TEST SET</a></span></li></ul></div>"
   ]
  },
  {
   "cell_type": "markdown",
   "metadata": {},
   "source": [
    "# QUESTION 1"
   ]
  },
  {
   "cell_type": "markdown",
   "metadata": {},
   "source": [
    "Split your data into a training and test set. Leave the test set for now. Examine the training data for missing and extreme values. Create histograms to show the distribution of the variables and a scatterplot showing the relationship between Years Worked and Salary. Are the data appropriate for linear regression? Is there anything that needs to be transformed or edited first?"
   ]
  },
  {
   "cell_type": "markdown",
   "metadata": {},
   "source": [
    "## Load Data and Import Modules"
   ]
  },
  {
   "cell_type": "code",
   "execution_count": 1,
   "metadata": {},
   "outputs": [],
   "source": [
    "# import modules\n",
    "import pandas as pd\n",
    "import numpy as np\n",
    "import matplotlib.pyplot as plt\n",
    "import seaborn as sns\n",
    "from sklearn.model_selection import train_test_split\n",
    "from sklearn.preprocessing import MinMaxScaler\n",
    "%matplotlib inline\n",
    "\n",
    "# load the salary dataset\n",
    "df = pd.read_csv('salary.csv')\n"
   ]
  },
  {
   "cell_type": "markdown",
   "metadata": {},
   "source": [
    "## Examine Training Data for Missing and Extreme Values"
   ]
  },
  {
   "cell_type": "code",
   "execution_count": 2,
   "metadata": {},
   "outputs": [
    {
     "data": {
      "text/plain": [
       "salary         1\n",
       "exprior        0\n",
       "yearsworked    0\n",
       "yearsrank      0\n",
       "market         0\n",
       "degree         0\n",
       "otherqual      0\n",
       "position       0\n",
       "male           0\n",
       "Field          0\n",
       "yearsabs       0\n",
       "dtype: int64"
      ]
     },
     "execution_count": 2,
     "metadata": {},
     "output_type": "execute_result"
    }
   ],
   "source": [
    "# search for missing values\n",
    "df.isnull().sum()"
   ]
  },
  {
   "cell_type": "markdown",
   "metadata": {},
   "source": [
    "There is one missing value for the variable salary. Plan of action is to replace it with the mean."
   ]
  },
  {
   "cell_type": "code",
   "execution_count": 3,
   "metadata": {},
   "outputs": [
    {
     "data": {
      "text/plain": [
       "salary         0\n",
       "exprior        0\n",
       "yearsworked    0\n",
       "yearsrank      0\n",
       "market         0\n",
       "degree         0\n",
       "otherqual      0\n",
       "position       0\n",
       "male           0\n",
       "Field          0\n",
       "yearsabs       0\n",
       "dtype: int64"
      ]
     },
     "execution_count": 3,
     "metadata": {},
     "output_type": "execute_result"
    }
   ],
   "source": [
    "# replace the missing value with the mean\n",
    "df['salary'] = df.fillna(df['salary'].mean())\n",
    "\n",
    "# checking for missing values\n",
    "x1 = df.isnull().sum()\n",
    "x1"
   ]
  },
  {
   "cell_type": "code",
   "execution_count": 4,
   "metadata": {},
   "outputs": [
    {
     "data": {
      "text/plain": [
       "(325, 11)"
      ]
     },
     "execution_count": 4,
     "metadata": {},
     "output_type": "execute_result"
    }
   ],
   "source": [
    "# detecting extreme values using IQR\n",
    "Q1 = df.quantile(0.25)\n",
    "Q3 = df.quantile(0.75)\n",
    "IQR = Q3 - Q1\n",
    "\n",
    "# removing outliers from the dataset\n",
    "df_out = df[~((df < (Q1 - 1.5 * IQR)) | (df > (Q3 + 1.5 * IQR))).any(axis=1)]\n",
    "\n",
    "df_out.shape"
   ]
  },
  {
   "cell_type": "code",
   "execution_count": 5,
   "metadata": {},
   "outputs": [],
   "source": [
    "from sklearn.preprocessing import MinMaxScaler"
   ]
  },
  {
   "cell_type": "markdown",
   "metadata": {},
   "source": [
    "## Split Data"
   ]
  },
  {
   "cell_type": "code",
   "execution_count": 6,
   "metadata": {
    "tags": []
   },
   "outputs": [
    {
     "name": "stdout",
     "output_type": "stream",
     "text": [
      "(227, 11) (98, 11)\n"
     ]
    }
   ],
   "source": [
    "# split the data\n",
    "train, test = train_test_split(df_out, test_size=.3, random_state=42)\n",
    "print(train.shape, test.shape)"
   ]
  },
  {
   "cell_type": "markdown",
   "metadata": {},
   "source": [
    "## Create Histogram and Scatter Plot"
   ]
  },
  {
   "cell_type": "code",
   "execution_count": 17,
   "metadata": {},
   "outputs": [
    {
     "data": {
      "text/plain": [
       "<matplotlib.axes._subplots.AxesSubplot at 0x7f25653c74d0>"
      ]
     },
     "execution_count": 17,
     "metadata": {},
     "output_type": "execute_result"
    },
    {
     "data": {
      "image/png": "[encoded data removed]",
      "text/plain": [
       "<Figure size 432x288 with 1 Axes>"
      ]
     },
     "metadata": {},
     "output_type": "display_data"
    }
   ],
   "source": [
    "# create new data frame \n",
    "train_new = pd.DataFrame(train, columns=['salary', 'yearsworked'])\n",
    "normalized_df=(train_new-train_new.mean())/train_new.std()\n",
    "normalized_df.plot.hist(bins=10, alpha=0.7)"
   ]
  },
  {
   "cell_type": "code",
   "execution_count": 18,
   "metadata": {},
   "outputs": [
    {
     "data": {
      "image/png": "[encoded data removed]",
      "text/plain": [
       "<Figure size 432x288 with 1 Axes>"
      ]
     },
     "metadata": {},
     "output_type": "display_data"
    }
   ],
   "source": [
    "# plot scatterplot\n",
    "salary = normalized_df.salary\n",
    "yearsworked = normalized_df.yearsworked\n",
    "_ = plt.plot(yearsworked, salary, marker='.', linestyle='none', color='green')\n",
    "_ = plt.xlabel('Yearsworked')\n",
    "_ = plt.ylabel('Salary')\n",
    "_ = plt.title('Years Worked vs Salary')\n",
    "_ = plt.show()\n"
   ]
  },
  {
   "cell_type": "markdown",
   "metadata": {},
   "source": [
    "The histograms clearly illustrate that salary and years worked have different distributions, none of which seem to resemble a normal distribution. Furthermore, there is a diminished representation of values over 30 years and salary over 90 000 for yearsworked and salary respectively.\n",
    "\n",
    "The scatter plot shows that a candidate who has more years worked is more likely to earn a higher salary."
   ]
  },
  {
   "cell_type": "markdown",
   "metadata": {},
   "source": [
    "## Are the data appropriate for linear regression"
   ]
  },
  {
   "cell_type": "markdown",
   "metadata": {},
   "source": [
    "ASSUMPTION 1: The Dependent and Independent variable must have a linear relationship\n",
    "\n",
    "Analyzing the Salary vs Years Worked Scatter Plot, it is clear that there is a linear relationship between salary and years worked, therefore first assumption of a Linear Regression has been satisfied."
   ]
  },
  {
   "cell_type": "code",
   "execution_count": 19,
   "metadata": {
    "tags": []
   },
   "outputs": [
    {
     "name": "stdout",
     "output_type": "stream",
     "text": [
      "                            OLS Regression Results                            \n",
      "==============================================================================\n",
      "Dep. Variable:                 salary   R-squared:                       0.438\n",
      "Model:                            OLS   Adj. R-squared:                  0.436\n",
      "Method:                 Least Squares   F-statistic:                     175.7\n",
      "Date:                Thu, 16 Jul 2020   Prob (F-statistic):           5.14e-30\n",
      "Time:                        16:45:31   Log-Likelihood:                -2382.9\n",
      "No. Observations:                 227   AIC:                             4770.\n",
      "Df Residuals:                     225   BIC:                             4777.\n",
      "Df Model:                           1                                         \n",
      "Covariance Type:            nonrobust                                         \n",
      "===============================================================================\n",
      "                  coef    std err          t      P>|t|      [0.025      0.975]\n",
      "-------------------------------------------------------------------------------\n",
      "Intercept    4.053e+04   1100.079     36.842      0.000    3.84e+04    4.27e+04\n",
      "yearsworked   818.8013     61.780     13.254      0.000     697.061     940.542\n",
      "==============================================================================\n",
      "Omnibus:                       16.222   Durbin-Watson:                   2.058\n",
      "Prob(Omnibus):                  0.000   Jarque-Bera (JB):               17.907\n",
      "Skew:                           0.684   Prob(JB):                     0.000129\n",
      "Kurtosis:                       3.142   Cond. No.                         33.6\n",
      "==============================================================================\n",
      "\n",
      "Warnings:\n",
      "[1] Standard Errors assume that the covariance matrix of the errors is correctly specified.\n"
     ]
    }
   ],
   "source": [
    "# ASSUMPTION 2: No Autocorrelation in residuals\n",
    "\n",
    "# import modules\n",
    "import statsmodels.formula.api as smf\n",
    "import statsmodels.stats.api as sms\n",
    "\n",
    "# Fit regression model (using the natural log of one of the regressors)\n",
    "results = smf.ols('salary ~ yearsworked', data=train_new).fit()\n",
    "\n",
    "# Inpect Results\n",
    "print(results.summary())"
   ]
  },
  {
   "cell_type": "markdown",
   "metadata": {},
   "source": [
    "Auto correlation is a characteristic of data which shows the degree of similarity between the values of the same variables over successive time intervals.\n",
    "\n",
    "When autocorrelation is detected in the residuals from a model, it suggests that the model is misspecified (i.e., in some sense wrong). A cause is that some key variable or variables are missing from the model.\n",
    "\n",
    "We test for correlation using the Durbin-Watson test.The DW statistic always has a value between zero and 4.0. A value of 2.0 means there is no autocorrelation detected in the sample. Values from zero to 2.0 indicate positive autocorrelation and values from 2.0 to 4.0 indicate negative autocorrelation.\n",
    "\n",
    "According to the above results (Durbin-Watson:2.058), we can conclude that the model has no autocorrelation."
   ]
  },
  {
   "cell_type": "code",
   "execution_count": 20,
   "metadata": {
    "tags": []
   },
   "outputs": [
    {
     "name": "stdout",
     "output_type": "stream",
     "text": [
      "{'Jarque-Bera': 17.90717709908282, 'Chi^2 two-tail prob.': 0.0001292724261785458, 'Skew': 0.6842821974396013, 'Kurtosis': 3.142482709556676}\n"
     ]
    }
   ],
   "source": [
    "# ASSUMPTION 4: residuals are normally distributed\n",
    "label = ['Jarque-Bera', 'Chi^2 two-tail prob.', 'Skew', 'Kurtosis']\n",
    "\n",
    "# test for normality using the Jarque-Bera Test\n",
    "jb_test = sms.jarque_bera(results.resid)\n",
    "print(dict(zip(label, jb_test)))\n"
   ]
  },
  {
   "cell_type": "markdown",
   "metadata": {},
   "source": [
    "Ordinary Least Squares (OLS) Linear Regression does not require that the error term follows a normal distribution to produce unbiased estimates with the minimum variance. However, satisfying this assumption allows you to perform statistical hypothesis testing and generate reliable confidence intervals and prediction intervals.\n",
    "\n",
    "The Jarque-Bera test statistic tests the null that the data is normally distributed against an alternative that the data follow some other distribution. The test statistic is based on two moments of the data, the skewness, and the kurtosis.\n",
    "\n",
    "A tiny p-value and a large chi-square value from this test means that you can reject the null hypothesis that the data is normally distributed. "
   ]
  },
  {
   "cell_type": "markdown",
   "metadata": {},
   "source": [
    "# QUESTION 2"
   ]
  },
  {
   "cell_type": "markdown",
   "metadata": {},
   "source": [
    "**Using the statsmodels package and the training data, run a simple linear regression for Salary with one predictor variable: Years Worked.**\n",
    "\n",
    "    Does the model significantly predict the dependent variable? Report the amount of variance explained (R^2) and significance value (p) to support your answer.\n",
    "    What percentage of the variance in employees’ salaries is accounted for by the number of years they have worked?\n"
   ]
  },
  {
   "cell_type": "code",
   "execution_count": 21,
   "metadata": {
    "tags": []
   },
   "outputs": [
    {
     "name": "stdout",
     "output_type": "stream",
     "text": [
      "                            OLS Regression Results                            \n",
      "==============================================================================\n",
      "Dep. Variable:                 salary   R-squared:                       0.438\n",
      "Model:                            OLS   Adj. R-squared:                  0.436\n",
      "Method:                 Least Squares   F-statistic:                     175.7\n",
      "Date:                Thu, 16 Jul 2020   Prob (F-statistic):           5.14e-30\n",
      "Time:                        16:49:03   Log-Likelihood:                -2382.9\n",
      "No. Observations:                 227   AIC:                             4770.\n",
      "Df Residuals:                     225   BIC:                             4777.\n",
      "Df Model:                           1                                         \n",
      "Covariance Type:            nonrobust                                         \n",
      "===============================================================================\n",
      "                  coef    std err          t      P>|t|      [0.025      0.975]\n",
      "-------------------------------------------------------------------------------\n",
      "Intercept    4.053e+04   1100.079     36.842      0.000    3.84e+04    4.27e+04\n",
      "yearsworked   818.8013     61.780     13.254      0.000     697.061     940.542\n",
      "==============================================================================\n",
      "Omnibus:                       16.222   Durbin-Watson:                   2.058\n",
      "Prob(Omnibus):                  0.000   Jarque-Bera (JB):               17.907\n",
      "Skew:                           0.684   Prob(JB):                     0.000129\n",
      "Kurtosis:                       3.142   Cond. No.                         33.6\n",
      "==============================================================================\n",
      "\n",
      "Warnings:\n",
      "[1] Standard Errors assume that the covariance matrix of the errors is correctly specified.\n"
     ]
    }
   ],
   "source": [
    "# Fit regression model (using the natural log of one of the regressors)\n",
    "results = smf.ols('salary ~ yearsworked', data=train_new).fit()\n",
    "\n",
    "# Inpect Results\n",
    "print(results.summary())"
   ]
  },
  {
   "cell_type": "markdown",
   "metadata": {},
   "source": [
    "## Does the model significantly predict the dependent variable?"
   ]
  },
  {
   "cell_type": "markdown",
   "metadata": {},
   "source": [
    "R-square shows the total variation for the dependent variable that could be explained by the independent variables. A value greater than 0.5 shows that the model is effective enough to determine the relationship. In this case, the value is 0.438, which is not good.\n",
    "\n",
    "Generally, 95% confidence interval or 5% level of the significance level is chosen for the study. Thus the p-value should be less than 0.05. In the above table, the p-values are 0.000. Therefore, the results are statistically significant."
   ]
  },
  {
   "cell_type": "markdown",
   "metadata": {},
   "source": [
    "## What percentage of the variance in employees’ salaries is accounted for by the number of years they have worked?"
   ]
  },
  {
   "cell_type": "markdown",
   "metadata": {},
   "source": [
    "The R-Squared value of 0.44 indicates that the model (explanatory variable: number of years worked) explains approximately 44 percent of the variation in the dependent variable (salary)."
   ]
  },
  {
   "cell_type": "markdown",
   "metadata": {},
   "source": [
    "# QUESTION 3"
   ]
  },
  {
   "cell_type": "markdown",
   "metadata": {},
   "source": [
    "**What does the unstandardized coefficient (B or ‘coef’ in statsmodels) tell you about the relationship between Years Worked and Salary?**"
   ]
  },
  {
   "cell_type": "code",
   "execution_count": 22,
   "metadata": {},
   "outputs": [
    {
     "data": {
      "text/plain": [
       "Intercept      40529.581447\n",
       "yearsworked      818.801340\n",
       "dtype: float64"
      ]
     },
     "execution_count": 22,
     "metadata": {},
     "output_type": "execute_result"
    }
   ],
   "source": [
    "# print the coefficients\n",
    "results.params"
   ]
  },
  {
   "cell_type": "markdown",
   "metadata": {},
   "source": [
    "The intercept is the value of the salary earned when the number of years worked is 0. Thus one unit increase in the number of years worked will result with a 818.80 unit increase in salary earned. Note that if an increase in years worked was associated with a decrease in salary, $\\beta_1$ would be negative. Thus, in this case our $\\beta_1$ suggest a positive relationship between years worked and salary."
   ]
  },
  {
   "cell_type": "markdown",
   "metadata": {},
   "source": [
    "# QUESTION 4"
   ]
  },
  {
   "cell_type": "markdown",
   "metadata": {},
   "source": [
    "**What do the 95% confidence intervals [0.025, 0.975] mean?**"
   ]
  },
  {
   "cell_type": "code",
   "execution_count": 23,
   "metadata": {},
   "outputs": [
    {
     "data": {
      "text/html": [
       "<div>\n",
       "<style scoped>\n",
       "    .dataframe tbody tr th:only-of-type {\n",
       "        vertical-align: middle;\n",
       "    }\n",
       "\n",
       "    .dataframe tbody tr th {\n",
       "        vertical-align: top;\n",
       "    }\n",
       "\n",
       "    .dataframe thead th {\n",
       "        text-align: right;\n",
       "    }\n",
       "</style>\n",
       "<table border=\"1\" class=\"dataframe\">\n",
       "  <thead>\n",
       "    <tr style=\"text-align: right;\">\n",
       "      <th></th>\n",
       "      <th>0</th>\n",
       "      <th>1</th>\n",
       "    </tr>\n",
       "  </thead>\n",
       "  <tbody>\n",
       "    <tr>\n",
       "      <th>Intercept</th>\n",
       "      <td>38361.806841</td>\n",
       "      <td>42697.356052</td>\n",
       "    </tr>\n",
       "    <tr>\n",
       "      <th>yearsworked</th>\n",
       "      <td>697.060522</td>\n",
       "      <td>940.542158</td>\n",
       "    </tr>\n",
       "  </tbody>\n",
       "</table>\n",
       "</div>"
      ],
      "text/plain": [
       "                        0             1\n",
       "Intercept    38361.806841  42697.356052\n",
       "yearsworked    697.060522    940.542158"
      ]
     },
     "execution_count": 23,
     "metadata": {},
     "output_type": "execute_result"
    }
   ],
   "source": [
    "# print the confidence intervals for the model coefficients\n",
    "results.conf_int()"
   ]
  },
  {
   "cell_type": "markdown",
   "metadata": {},
   "source": [
    "Confidence Interval represents the range in which our coefficients are likely to fall (with a likelihood of 95%)"
   ]
  },
  {
   "cell_type": "markdown",
   "metadata": {},
   "source": [
    "# QUESTION 5"
   ]
  },
  {
   "cell_type": "markdown",
   "metadata": {},
   "source": [
    "**Calculate the expected salary for someone with 12 years’ work experience.**"
   ]
  },
  {
   "cell_type": "code",
   "execution_count": 24,
   "metadata": {},
   "outputs": [
    {
     "data": {
      "text/plain": [
       "Year_12 Salary:    50355.197528\n",
       "dtype: float64"
      ]
     },
     "execution_count": 24,
     "metadata": {},
     "output_type": "execute_result"
    }
   ],
   "source": [
    "# create data frame\n",
    "x_12 = pd.DataFrame({'yearsworked':[12]}, index=['Year_12 Salary:'])\n",
    "\n",
    "# predict salary after 12 years' work experience\n",
    "pred_12 = results.predict(x_12)\n",
    "pred_12"
   ]
  },
  {
   "cell_type": "markdown",
   "metadata": {},
   "source": [
    "# QUESTION 6"
   ]
  },
  {
   "cell_type": "markdown",
   "metadata": {},
   "source": [
    "**Calculate the expected salary for someone with 80 years’ work experience. Are there any problems with this prediction? If so, what are they?**"
   ]
  },
  {
   "cell_type": "code",
   "execution_count": 25,
   "metadata": {},
   "outputs": [
    {
     "data": {
      "text/plain": [
       "Year_80 Salary:    106033.688653\n",
       "dtype: float64"
      ]
     },
     "execution_count": 25,
     "metadata": {},
     "output_type": "execute_result"
    }
   ],
   "source": [
    "# create data frame\n",
    "x_80 = pd.DataFrame({'yearsworked':[80]}, index=['Year_80 Salary:'])\n",
    "\n",
    "# predict salary with 80 years' work experience\n",
    "pred_80 = results.predict(x_80)\n",
    "pred_80"
   ]
  },
  {
   "cell_type": "markdown",
   "metadata": {},
   "source": [
    "It is highly unlikely to find a candidate with 80 years work experience, hence this predicted value highly unfeasible as well as unreliable."
   ]
  },
  {
   "cell_type": "markdown",
   "metadata": {},
   "source": [
    "# QUESTION 7"
   ]
  },
  {
   "cell_type": "markdown",
   "metadata": {},
   "source": [
    "**We have only looked at the number of years an employee has worked. What other employee characteristics might influence their salary?**"
   ]
  },
  {
   "cell_type": "code",
   "execution_count": 26,
   "metadata": {},
   "outputs": [
    {
     "data": {
      "image/png": "[encoded data removed]",
      "text/plain": [
       "<Figure size 432x288 with 2 Axes>"
      ]
     },
     "metadata": {},
     "output_type": "display_data"
    }
   ],
   "source": [
    "# plot heatmap to find correlation of multiple variables\n",
    "corr = train.corr()\n",
    "fig = plt.figure()\n",
    "ax = fig.add_subplot(111)\n",
    "cax = ax.matshow(corr, cmap='coolwarm', vmin=-1, vmax=1)\n",
    "fig.colorbar(cax)\n",
    "ticks = np.arange(0,len(train.columns), 1)\n",
    "ax.set_xticks(ticks)\n",
    "plt.xticks(rotation=90)\n",
    "ax.set_yticks(ticks)\n",
    "ax.set_xticklabels(train.columns)\n",
    "ax.set_yticklabels(train.columns)\n",
    "plt.show()"
   ]
  },
  {
   "cell_type": "markdown",
   "metadata": {},
   "source": [
    "The above diagram shows the correlation between variables of the dataset. When there is no correlation between 2 variables (when correlation is 0 or near 0) the color is gray.\n",
    "\n",
    "The darkest red means there is a perfect positive correlation, while the darkest blue means there is a perfect negative correlation.\n",
    "\n",
    "The following variables (experior, degree, otherqual, male and yearsabs) have little to no influence on salary earned while (yearsworked, yearsrank, market, and position) are positively correlated with salary and (Field) is negatively correlated with salary."
   ]
  },
  {
   "cell_type": "markdown",
   "metadata": {},
   "source": [
    "# FIT MODEL ON TEST SET"
   ]
  },
  {
   "cell_type": "markdown",
   "metadata": {},
   "source": [
    "**Now fit your model to your test set. DO NOT BUILD A NEW MODEL ON THE TEST SET! Simply use your existing, model, to predict salaries in the test set.**"
   ]
  },
  {
   "cell_type": "code",
   "execution_count": 27,
   "metadata": {
    "tags": []
   },
   "outputs": [
    {
     "name": "stdout",
     "output_type": "stream",
     "text": [
      "265    59362.012268\n",
      "124    44623.588147\n",
      "283    59362.012268\n",
      "10     42985.985467\n",
      "103    45442.389487\n",
      "           ...     \n",
      "23     42985.985467\n",
      "354    61818.416289\n",
      "294    54449.204228\n",
      "60     45442.389487\n",
      "356    64274.820309\n",
      "Length: 98, dtype: float64\n"
     ]
    }
   ],
   "source": [
    "# fit model on test set\n",
    "test_result = results.predict(test.yearsworked)\n",
    "print(test_result)\n",
    "\n",
    "# train set predictions\n",
    "train_result = results.predict(train_new.yearsworked)"
   ]
  },
  {
   "cell_type": "markdown",
   "metadata": {},
   "source": [
    "**How does your model compare when running it on the test set - what is the difference in the Root Mean Square Error (RMSE) between the training and test sets? Is there any evidence of overfitting?**"
   ]
  },
  {
   "cell_type": "code",
   "execution_count": 28,
   "metadata": {},
   "outputs": [
    {
     "data": {
      "text/plain": [
       "<matplotlib.axes._subplots.AxesSubplot at 0x7f256539f250>"
      ]
     },
     "execution_count": 28,
     "metadata": {},
     "output_type": "execute_result"
    },
    {
     "data": {
      "image/png": "[encoded data removed]",
      "text/plain": [
       "<Figure size 432x288 with 1 Axes>"
      ]
     },
     "metadata": {},
     "output_type": "display_data"
    }
   ],
   "source": [
    "sns.residplot(x=train['yearsworked'], y=train['salary'], data=train_result, color='green')\n",
    "sns.residplot(x=test['yearsworked'], y=test['salary'], data=test_result, color='red')"
   ]
  },
  {
   "cell_type": "code",
   "execution_count": 29,
   "metadata": {
    "tags": []
   },
   "outputs": [
    {
     "name": "stdout",
     "output_type": "stream",
     "text": [
      "RMSE_Train:  8763.009965243473 RMSE_Test:  8087.286351444597\n"
     ]
    }
   ],
   "source": [
    "# calculate Root Mean Square Error (RMSE)\n",
    "from sklearn.metrics import mean_squared_error as mse\n",
    "from math import sqrt\n",
    "\n",
    "# How to calculat RMSE: rmse = sqrt(mean_squared_error(y_actual, y_predicted))\n",
    "\n",
    "# calculate RMSE for Test Set\n",
    "rmse_test = sqrt(mse(test.salary, test_result))\n",
    "\n",
    "# calculate RMSE for Train Set\n",
    "rmse_train = sqrt(mse(train_new.salary, train_result))\n",
    "\n",
    "print('RMSE_Train: ', rmse_train, 'RMSE_Test: ', rmse_test)"
   ]
  },
  {
   "cell_type": "markdown",
   "metadata": {},
   "source": [
    "The RMSE is the square root of the variance of the residuals. It indicates the absolute fit of the model to the data–how close the observed data points are to the model’s predicted values.\n",
    "\n",
    "Lower values of RMSE indicate better fit. RMSE is a good measure of how accurately the model predicts the response, and it is the most important criterion for fit if the main purpose of the model is prediction.\n",
    "\n",
    "Our results indicate that the model we ran on the train set is over-fitted, since it has a higher RMSE."
   ]
  }
 ],
 "metadata": {
  "hide_input": false,
  "kernelspec": {
   "display_name": "Python 3",
   "language": "python",
   "name": "python3"
  },
  "language_info": {
   "codemirror_mode": {
    "name": "ipython",
    "version": 3
   },
   "file_extension": ".py",
   "mimetype": "text/x-python",
   "name": "python",
   "nbconvert_exporter": "python",
   "pygments_lexer": "ipython3",
   "version": "3.7.6"
  },
  "toc": {
   "base_numbering": 1,
   "nav_menu": {},
   "number_sections": true,
   "sideBar": true,
   "skip_h1_title": false,
   "title_cell": "Table of Contents",
   "title_sidebar": "Contents",
   "toc_cell": true,
   "toc_position": {},
   "toc_section_display": true,
   "toc_window_display": false
  },
  "varInspector": {
   "cols": {
    "lenName": 16,
    "lenType": 16,
    "lenVar": 40
   },
   "kernels_config": {
    "python": {
     "delete_cmd_postfix": "",
     "delete_cmd_prefix": "del ",
     "library": "var_list.py",
     "varRefreshCmd": "print(var_dic_list())"
    },
    "r": {
     "delete_cmd_postfix": ") ",
     "delete_cmd_prefix": "rm(",
     "library": "var_list.r",
     "varRefreshCmd": "cat(var_dic_list()) "
    }
   },
   "types_to_exclude": [
    "module",
    "function",
    "builtin_function_or_method",
    "instance",
    "_Feature"
   ],
   "window_display": false
  }
 },
 "nbformat": 4,
 "nbformat_minor": 4
}
