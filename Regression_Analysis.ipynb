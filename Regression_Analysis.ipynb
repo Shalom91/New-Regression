{
 "cells": [
  {
   "cell_type": "markdown",
   "metadata": {
    "toc": true
   },
   "source": [
    "<h1>Table of Contents<span class=\"tocSkip\"></span></h1>\n",
    "<div class=\"toc\"><ul class=\"toc-item\"><li><span><a href=\"#ASSIGNMENT\" data-toc-modified-id=\"ASSIGNMENT-1\"><span class=\"toc-item-num\">1&nbsp;&nbsp;</span>ASSIGNMENT</a></span></li><li><span><a href=\"#QUESTION-1\" data-toc-modified-id=\"QUESTION-1-2\"><span class=\"toc-item-num\">2&nbsp;&nbsp;</span>QUESTION 1</a></span><ul class=\"toc-item\"><li><span><a href=\"#Split-The-Dataset\" data-toc-modified-id=\"Split-The-Dataset-2.1\"><span class=\"toc-item-num\">2.1&nbsp;&nbsp;</span>Split The Dataset</a></span></li><li><span><a href=\"#Examine-Training-Data-for-Missing-and-Extreme-Values\" data-toc-modified-id=\"Examine-Training-Data-for-Missing-and-Extreme-Values-2.2\"><span class=\"toc-item-num\">2.2&nbsp;&nbsp;</span>Examine Training Data for Missing and Extreme Values</a></span></li><li><span><a href=\"#Create-Histogram-and-Scatter-Plot\" data-toc-modified-id=\"Create-Histogram-and-Scatter-Plot-2.3\"><span class=\"toc-item-num\">2.3&nbsp;&nbsp;</span>Create Histogram and Scatter Plot</a></span></li><li><span><a href=\"#Are-the-data-appropriate-for-linear-regression\" data-toc-modified-id=\"Are-the-data-appropriate-for-linear-regression-2.4\"><span class=\"toc-item-num\">2.4&nbsp;&nbsp;</span>Are the data appropriate for linear regression</a></span></li></ul></li></ul></div>"
   ]
  },
  {
   "cell_type": "markdown",
   "metadata": {},
   "source": [
    "# ASSIGNMENT"
   ]
  },
  {
   "cell_type": "markdown",
   "metadata": {},
   "source": [
    "We will predict employee salaries from different employee characteristics (or features). We are going to use a simple supervised learning technique: linear regression. We want to build a simple model to determine how well Years Worked predicts an employee’s salary. Import the data salary.csv to a Jupyter Notebook. A description of the variables is given in Salary Metadata."
   ]
  },
  {
   "cell_type": "markdown",
   "metadata": {},
   "source": [
    "# QUESTION 1"
   ]
  },
  {
   "cell_type": "markdown",
   "metadata": {},
   "source": [
    "Split your data into a training and test set. Leave the test set for now. Examine the training data for missing and extreme values. Create histograms to show the distribution of the variables and a scatterplot showing the relationship between Years Worked and Salary. Are the data appropriate for linear regression? Is there anything that needs to be transformed or edited first?"
   ]
  },
  {
   "cell_type": "markdown",
   "metadata": {},
   "source": [
    "## Split The Dataset"
   ]
  },
  {
   "cell_type": "code",
   "execution_count": 36,
   "metadata": {},
   "outputs": [
    {
     "name": "stdout",
     "output_type": "stream",
     "text": [
      "(411, 11) (103, 11)\n"
     ]
    }
   ],
   "source": [
    "# import modules\n",
    "import pandas as pd\n",
    "import matplotlib.pyplot as plt\n",
    "import seaborn as sns\n",
    "from sklearn.model_selection import train_test_split\n",
    "%matplotlib inline\n",
    "\n",
    "# set graph style\n",
    "sns.set()\n",
    "sns.set(rc={'figure.figsize':(12,8)})\n",
    "sns.set(font_scale=1)\n",
    "\n",
    "# load the salary dataset\n",
    "df = pd.read_csv('salary.csv')\n",
    "\n",
    "# split the data\n",
    "train, test = train_test_split(df, test_size=0.2)\n",
    "print(train.shape, test.shape)"
   ]
  },
  {
   "cell_type": "markdown",
   "metadata": {},
   "source": [
    "## Examine Training Data for Missing and Extreme Values"
   ]
  },
  {
   "cell_type": "code",
   "execution_count": 37,
   "metadata": {},
   "outputs": [
    {
     "data": {
      "text/plain": [
       "salary         1\n",
       "exprior        0\n",
       "yearsworked    0\n",
       "yearsrank      0\n",
       "market         0\n",
       "degree         0\n",
       "otherqual      0\n",
       "position       0\n",
       "male           0\n",
       "Field          0\n",
       "yearsabs       0\n",
       "dtype: int64"
      ]
     },
     "execution_count": 37,
     "metadata": {},
     "output_type": "execute_result"
    }
   ],
   "source": [
    "# search for missing values\n",
    "x = train.isnull().sum()\n",
    "x"
   ]
  },
  {
   "cell_type": "markdown",
   "metadata": {},
   "source": [
    "There is one missing value for the variable salary. Plan of action is to replace it with the mean."
   ]
  },
  {
   "cell_type": "code",
   "execution_count": 38,
   "metadata": {},
   "outputs": [
    {
     "name": "stderr",
     "output_type": "stream",
     "text": [
      "/home/recruit/.local/lib/python3.6/site-packages/ipykernel_launcher.py:2: SettingWithCopyWarning: \n",
      "A value is trying to be set on a copy of a slice from a DataFrame.\n",
      "Try using .loc[row_indexer,col_indexer] = value instead\n",
      "\n",
      "See the caveats in the documentation: http://pandas.pydata.org/pandas-docs/stable/user_guide/indexing.html#returning-a-view-versus-a-copy\n",
      "  \n"
     ]
    },
    {
     "data": {
      "text/plain": [
       "salary         0\n",
       "exprior        0\n",
       "yearsworked    0\n",
       "yearsrank      0\n",
       "market         0\n",
       "degree         0\n",
       "otherqual      0\n",
       "position       0\n",
       "male           0\n",
       "Field          0\n",
       "yearsabs       0\n",
       "dtype: int64"
      ]
     },
     "execution_count": 38,
     "metadata": {},
     "output_type": "execute_result"
    }
   ],
   "source": [
    "# replace the missing value with the mean\n",
    "train['salary'] = train.fillna(train['salary'].mean())\n",
    "\n",
    "# checking for missing values\n",
    "x1 = train.isnull().sum()\n",
    "x1"
   ]
  },
  {
   "cell_type": "code",
   "execution_count": 39,
   "metadata": {},
   "outputs": [
    {
     "data": {
      "text/plain": [
       "(290, 11)"
      ]
     },
     "execution_count": 39,
     "metadata": {},
     "output_type": "execute_result"
    }
   ],
   "source": [
    "# detecting extreme values using IQR\n",
    "Q1 = train.quantile(0.25)\n",
    "Q3 = train.quantile(0.75)\n",
    "IQR = Q3 - Q1\n",
    "\n",
    "# removing outliers from the dataset\n",
    "train_out = train[~((train < (Q1 - 1.5 * IQR)) | (train > (Q3 + 1.5 * IQR))).any(axis=1)]\n",
    "\n",
    "train_out.shape"
   ]
  },
  {
   "cell_type": "markdown",
   "metadata": {},
   "source": [
    "## Create Histogram and Scatter Plot"
   ]
  },
  {
   "cell_type": "code",
   "execution_count": 40,
   "metadata": {},
   "outputs": [
    {
     "data": {
      "image/png": "[encoded data removed]",
      "text/plain": [
       "<Figure size 864x576 with 3 Axes>"
      ]
     },
     "metadata": {},
     "output_type": "display_data"
    }
   ],
   "source": [
    "# create new data frame \n",
    "train_new = pd.DataFrame(train_out, columns=['salary', 'yearsworked'])\n",
    "\n",
    "salary = train_new.salary\n",
    "yearsworked = train_new.yearsworked\n",
    "\n",
    "# plot histograms and scatter plot\n",
    "ax = plt.subplot(221)\n",
    "_ = plt.hist(salary, bins=50)\n",
    "_ = plt.xlabel('salary')\n",
    "_ = plt.ylabel('count')\n",
    "\n",
    "ax = plt.subplot(222)\n",
    "_ = plt.hist(yearsworked, bins=50)\n",
    "_ = plt.xlabel('years worked')\n",
    "_ = plt.ylabel('count')\n",
    "\n",
    "ax = plt.subplot(223)\n",
    "_ = plt.plot(yearsworked, salary, marker='.', linestyle='none')\n",
    "_ = plt.xlabel('years worked')\n",
    "_ = plt.ylabel('salary')"
   ]
  },
  {
   "cell_type": "markdown",
   "metadata": {},
   "source": [
    "## Are the data appropriate for linear regression"
   ]
  },
  {
   "cell_type": "markdown",
   "metadata": {},
   "source": [
    "ASSUMPTION 1: The Dependent and Independent variable must have a linear relationship\n",
    "\n",
    "Analyzing the Salary vs Years Worked Scatter Plot, it is clear that there is a linear relationship between salary and years worked, therefore first assumption of a Linear Regression has been satisfied."
   ]
  },
  {
   "cell_type": "code",
   "execution_count": 43,
   "metadata": {},
   "outputs": [
    {
     "name": "stdout",
     "output_type": "stream",
     "text": [
      "                            OLS Regression Results                            \n",
      "==============================================================================\n",
      "Dep. Variable:                 salary   R-squared:                       0.549\n",
      "Model:                            OLS   Adj. R-squared:                  0.547\n",
      "Method:                 Least Squares   F-statistic:                     349.9\n",
      "Date:                Tue, 11 Feb 2020   Prob (F-statistic):           1.17e-51\n",
      "Time:                        16:48:32   Log-Likelihood:                -3028.2\n",
      "No. Observations:                 290   AIC:                             6060.\n",
      "Df Residuals:                     288   BIC:                             6068.\n",
      "Df Model:                           1                                         \n",
      "Covariance Type:            nonrobust                                         \n",
      "===============================================================================\n",
      "                  coef    std err          t      P>|t|      [0.025      0.975]\n",
      "-------------------------------------------------------------------------------\n",
      "Intercept     3.77e+04    816.961     46.152      0.000    3.61e+04    3.93e+04\n",
      "yearsworked   937.4855     50.118     18.705      0.000     838.841    1036.130\n",
      "==============================================================================\n",
      "Omnibus:                       24.967   Durbin-Watson:                   2.064\n",
      "Prob(Omnibus):                  0.000   Jarque-Bera (JB):               29.087\n",
      "Skew:                           0.767   Prob(JB):                     4.83e-07\n",
      "Kurtosis:                       3.226   Cond. No.                         27.3\n",
      "==============================================================================\n",
      "\n",
      "Warnings:\n",
      "[1] Standard Errors assume that the covariance matrix of the errors is correctly specified.\n"
     ]
    }
   ],
   "source": [
    "# ASSUMPTION 2: No Autocorrelation in residuals\n",
    "\n",
    "# import modules\n",
    "import numpy as np\n",
    "from statsmodels.compat import lzip\n",
    "import statsmodels.formula.api as smf\n",
    "import statsmodels.stats.api as sms\n",
    "\n",
    "# Fit regression model (using the natural log of one of the regressors)\n",
    "results = smf.ols('salary ~ yearsworked', data=train_new).fit()\n",
    "\n",
    "# Inpect Results\n",
    "print(results.summary())"
   ]
  }
 ],
 "metadata": {
  "kernelspec": {
   "display_name": "Python 3",
   "language": "python",
   "name": "python3"
  },
  "language_info": {
   "codemirror_mode": {
    "name": "ipython",
    "version": 3
   },
   "file_extension": ".py",
   "mimetype": "text/x-python",
   "name": "python",
   "nbconvert_exporter": "python",
   "pygments_lexer": "ipython3",
   "version": "3.6.9"
  },
  "toc": {
   "base_numbering": 1,
   "nav_menu": {},
   "number_sections": true,
   "sideBar": true,
   "skip_h1_title": false,
   "title_cell": "Table of Contents",
   "title_sidebar": "Contents",
   "toc_cell": true,
   "toc_position": {},
   "toc_section_display": true,
   "toc_window_display": false
  },
  "varInspector": {
   "cols": {
    "lenName": 16,
    "lenType": 16,
    "lenVar": 40
   },
   "kernels_config": {
    "python": {
     "delete_cmd_postfix": "",
     "delete_cmd_prefix": "del ",
     "library": "var_list.py",
     "varRefreshCmd": "print(var_dic_list())"
    },
    "r": {
     "delete_cmd_postfix": ") ",
     "delete_cmd_prefix": "rm(",
     "library": "var_list.r",
     "varRefreshCmd": "cat(var_dic_list()) "
    }
   },
   "types_to_exclude": [
    "module",
    "function",
    "builtin_function_or_method",
    "instance",
    "_Feature"
   ],
   "window_display": false
  }
 },
 "nbformat": 4,
 "nbformat_minor": 4
}
